{
 "cells": [
  {
   "cell_type": "code",
   "execution_count": 1,
   "id": "58cf0967",
   "metadata": {},
   "outputs": [
    {
     "name": "stdout",
     "output_type": "stream",
     "text": [
      "[1, 2, 3, 4, 5, 6, 7, 8, 9, 10, 11, 12, 13, 14]\n",
      "[1, 2, 3, 4, 5, 6, 7, 8, 9, 10, 11, 12, 13, 14]\n",
      "[1, 2, 3, 4, 5, 6, 7, 8, 9, 10, 11, 12, 13, 14]\n",
      "[1, 2, 3, 4, 5, 6, 7, 8, 9, 10, 11, 12, 13, 14]\n",
      "[1, 2, 3, 4, 5, 6, 7, 8, 9, 10, 11, 12, 13, 14]\n",
      "[1, 2, 3, 4, 5, 6, 7, 8, 9, 10, 11, 12, 13, 14]\n",
      "[1, 2, 3, 4, 5, 6, 7, 8, 9, 10, 11, 12, 13, 14]\n",
      "[1, 2, 3, 4, 5, 6, 7, 8, 9, 10, 11, 12, 13, 14]\n",
      "[1, 2, 3, 4, 5, 6, 7, 8, 9, 10, 11, 12, 13, 14]\n",
      "The slowest run took 37.43 times longer than the fastest. This could mean that an intermediate result is being cached.\n",
      "40.8 µs ± 53.2 µs per loop (mean ± std. dev. of 3 runs, 3 loops each)\n"
     ]
    },
    {
     "data": {
      "text/plain": [
       "<TimeitResult : 40.8 µs ± 53.2 µs per loop (mean ± std. dev. of 3 runs, 3 loops each)>"
      ]
     },
     "execution_count": 1,
     "metadata": {},
     "output_type": "execute_result"
    }
   ],
   "source": [
    "%%timeit -r3 -n3 -o\n",
    "nums = [i for i in range(1,15)]\n",
    "print(nums)"
   ]
  },
  {
   "cell_type": "code",
   "execution_count": 2,
   "id": "a1db1e76",
   "metadata": {},
   "outputs": [],
   "source": [
    "import random\n",
    "\n",
    "listEng = [\"one\", \"two\", \"three\", \"four\", \"five\", \"six\", \"seven\", \"eight\", \"nine\", \"ten\", \"eleven\", \"twelve\", \"thirteen\", \"fourteen\", \"fifteen\"]   "
   ]
  },
  {
   "cell_type": "code",
   "execution_count": 3,
   "id": "1c76fc72",
   "metadata": {},
   "outputs": [
    {
     "name": "stdout",
     "output_type": "stream",
     "text": [
      "['fourteen', 'eight', 'nine', 'eleven', 'twelve', 'seven', 'thirteen', 'three', 'four', 'five', 'ten', 'fourteen', 'fifteen', 'eleven']\n",
      "['three', 'fourteen', 'five', 'six', 'twelve', 'five', 'fifteen', 'seven', 'seven', 'thirteen', 'four', 'twelve', 'two', 'two']\n",
      "['eight', 'ten', 'one', 'seven', 'two', 'fourteen', 'twelve', 'three', 'five', 'five', 'fifteen', 'three', 'three', 'seven']\n",
      "['three', 'four', 'two', 'seven', 'one', 'fourteen', 'one', 'seven', 'twelve', 'fourteen', 'fourteen', 'two', 'fourteen', 'fourteen']\n",
      "['seven', 'fourteen', 'fourteen', 'eleven', 'fourteen', 'four', 'eleven', 'fifteen', 'four', 'one', 'thirteen', 'fifteen', 'two', 'six']\n",
      "['eight', 'six', 'nine', 'four', 'fourteen', 'seven', 'twelve', 'fourteen', 'ten', 'ten', 'ten', 'fifteen', 'three', 'six']\n",
      "['fourteen', 'eleven', 'eight', 'three', 'ten', 'five', 'two', 'seven', 'fourteen', 'fifteen', 'eleven', 'fifteen', 'nine', 'twelve']\n",
      "['twelve', 'one', 'four', 'two', 'one', 'four', 'nine', 'eleven', 'fifteen', 'four', 'eleven', 'fourteen', 'five', 'eight']\n",
      "['eleven', 'ten', 'three', 'four', 'ten', 'nine', 'four', 'nine', 'nine', 'four', 'three', 'ten', 'fourteen', 'seven']\n",
      "The slowest run took 11.73 times longer than the fastest. This could mean that an intermediate result is being cached.\n",
      "45.9 µs ± 48.3 µs per loop (mean ± std. dev. of 3 runs, 3 loops each)\n"
     ]
    },
    {
     "data": {
      "text/plain": [
       "<TimeitResult : 45.9 µs ± 48.3 µs per loop (mean ± std. dev. of 3 runs, 3 loops each)>"
      ]
     },
     "execution_count": 3,
     "metadata": {},
     "output_type": "execute_result"
    }
   ],
   "source": [
    "%%timeit -r3 -n3 -o\n",
    "datalist = [listEng[random.randrange(len(listEng))] for i in range(1,15)]\n",
    "print(datalist)"
   ]
  },
  {
   "cell_type": "code",
   "execution_count": 4,
   "id": "98aa3802",
   "metadata": {},
   "outputs": [
    {
     "name": "stdout",
     "output_type": "stream",
     "text": [
      "[1, 2, 3, 4, 5, 6, 7, 8, 9, 10, 11, 12, 13, 14]\n",
      "[1, 2, 3, 4, 5, 6, 7, 8, 9, 10, 11, 12, 13, 14]\n",
      "[1, 2, 3, 4, 5, 6, 7, 8, 9, 10, 11, 12, 13, 14]\n",
      "[1, 2, 3, 4, 5, 6, 7, 8, 9, 10, 11, 12, 13, 14]\n",
      "[1, 2, 3, 4, 5, 6, 7, 8, 9, 10, 11, 12, 13, 14]\n",
      "[1, 2, 3, 4, 5, 6, 7, 8, 9, 10, 11, 12, 13, 14]\n",
      "[1, 2, 3, 4, 5, 6, 7, 8, 9, 10, 11, 12, 13, 14]\n",
      "[1, 2, 3, 4, 5, 6, 7, 8, 9, 10, 11, 12, 13, 14]\n",
      "[1, 2, 3, 4, 5, 6, 7, 8, 9, 10, 11, 12, 13, 14]\n",
      "The slowest run took 29.08 times longer than the fastest. This could mean that an intermediate result is being cached.\n",
      "35.7 µs ± 45.4 µs per loop (mean ± std. dev. of 3 runs, 3 loops each)\n"
     ]
    }
   ],
   "source": [
    "%%timeit -r3 -n3\n",
    "\n",
    "AppendList = []\n",
    "for i in range(1,15):\n",
    "    AppendList.append(i)\n",
    "\n",
    "print(AppendList)"
   ]
  },
  {
   "cell_type": "code",
   "execution_count": 5,
   "id": "da5da72f",
   "metadata": {},
   "outputs": [
    {
     "name": "stdout",
     "output_type": "stream",
     "text": [
      "[1, 2, 3, 4, 5, 6, 7, 8, 9, 10, 11, 12, 13, 14]\n",
      "[1, 2, 3, 4, 5, 6, 7, 8, 9, 10, 11, 12, 13, 14]\n",
      "[1, 2, 3, 4, 5, 6, 7, 8, 9, 10, 11, 12, 13, 14]\n",
      "[1, 2, 3, 4, 5, 6, 7, 8, 9, 10, 11, 12, 13, 14]\n",
      "[1, 2, 3, 4, 5, 6, 7, 8, 9, 10, 11, 12, 13, 14]\n",
      "[1, 2, 3, 4, 5, 6, 7, 8, 9, 10, 11, 12, 13, 14]\n",
      "[1, 2, 3, 4, 5, 6, 7, 8, 9, 10, 11, 12, 13, 14]\n",
      "[1, 2, 3, 4, 5, 6, 7, 8, 9, 10, 11, 12, 13, 14]\n",
      "[1, 2, 3, 4, 5, 6, 7, 8, 9, 10, 11, 12, 13, 14]\n",
      "The slowest run took 7.25 times longer than the fastest. This could mean that an intermediate result is being cached.\n",
      "13.8 µs ± 10.5 µs per loop (mean ± std. dev. of 3 runs, 3 loops each)\n"
     ]
    }
   ],
   "source": [
    "%%timeit -r3 -n3\n",
    "\n",
    "insertList = []\n",
    "for i in range(1,15):\n",
    "    insertList.insert((i-1),i)\n",
    "\n",
    "print(insertList)"
   ]
  },
  {
   "cell_type": "code",
   "execution_count": 6,
   "id": "c1165bd6",
   "metadata": {},
   "outputs": [
    {
     "name": "stdout",
     "output_type": "stream",
     "text": [
      "{1: 1, 2: 2, 3: 3, 4: 4, 5: 5, 6: 6, 7: 7, 8: 8, 9: 9, 10: 10, 11: 11, 12: 12, 13: 13, 14: 14}\n",
      "{1: 1, 2: 2, 3: 3, 4: 4, 5: 5, 6: 6, 7: 7, 8: 8, 9: 9, 10: 10, 11: 11, 12: 12, 13: 13, 14: 14}\n",
      "{1: 1, 2: 2, 3: 3, 4: 4, 5: 5, 6: 6, 7: 7, 8: 8, 9: 9, 10: 10, 11: 11, 12: 12, 13: 13, 14: 14}\n",
      "{1: 1, 2: 2, 3: 3, 4: 4, 5: 5, 6: 6, 7: 7, 8: 8, 9: 9, 10: 10, 11: 11, 12: 12, 13: 13, 14: 14}\n",
      "{1: 1, 2: 2, 3: 3, 4: 4, 5: 5, 6: 6, 7: 7, 8: 8, 9: 9, 10: 10, 11: 11, 12: 12, 13: 13, 14: 14}\n",
      "{1: 1, 2: 2, 3: 3, 4: 4, 5: 5, 6: 6, 7: 7, 8: 8, 9: 9, 10: 10, 11: 11, 12: 12, 13: 13, 14: 14}\n",
      "{1: 1, 2: 2, 3: 3, 4: 4, 5: 5, 6: 6, 7: 7, 8: 8, 9: 9, 10: 10, 11: 11, 12: 12, 13: 13, 14: 14}\n",
      "{1: 1, 2: 2, 3: 3, 4: 4, 5: 5, 6: 6, 7: 7, 8: 8, 9: 9, 10: 10, 11: 11, 12: 12, 13: 13, 14: 14}\n",
      "{1: 1, 2: 2, 3: 3, 4: 4, 5: 5, 6: 6, 7: 7, 8: 8, 9: 9, 10: 10, 11: 11, 12: 12, 13: 13, 14: 14}\n",
      "The slowest run took 16.27 times longer than the fastest. This could mean that an intermediate result is being cached.\n",
      "27.5 µs ± 32.3 µs per loop (mean ± std. dev. of 3 runs, 3 loops each)\n"
     ]
    }
   ],
   "source": [
    "%%timeit -r3 -n3\n",
    "dictionDict = {i: i for i in range(1,15)}\n",
    "print(dictionDict)"
   ]
  },
  {
   "cell_type": "code",
   "execution_count": 7,
   "id": "7167c9e1",
   "metadata": {},
   "outputs": [
    {
     "name": "stdout",
     "output_type": "stream",
     "text": [
      "(1, 2, 3, 4, 5, 6, 7, 8, 9, 10, 11, 12, 13, 14)\n",
      "(1, 2, 3, 4, 5, 6, 7, 8, 9, 10, 11, 12, 13, 14)\n",
      "(1, 2, 3, 4, 5, 6, 7, 8, 9, 10, 11, 12, 13, 14)\n",
      "(1, 2, 3, 4, 5, 6, 7, 8, 9, 10, 11, 12, 13, 14)\n",
      "(1, 2, 3, 4, 5, 6, 7, 8, 9, 10, 11, 12, 13, 14)\n",
      "(1, 2, 3, 4, 5, 6, 7, 8, 9, 10, 11, 12, 13, 14)\n",
      "(1, 2, 3, 4, 5, 6, 7, 8, 9, 10, 11, 12, 13, 14)\n",
      "(1, 2, 3, 4, 5, 6, 7, 8, 9, 10, 11, 12, 13, 14)\n",
      "(1, 2, 3, 4, 5, 6, 7, 8, 9, 10, 11, 12, 13, 14)\n",
      "The slowest run took 20.45 times longer than the fastest. This could mean that an intermediate result is being cached.\n",
      "24.3 µs ± 29.6 µs per loop (mean ± std. dev. of 3 runs, 3 loops each)\n"
     ]
    }
   ],
   "source": [
    "%%timeit -r3 -n3\n",
    "tuples = tuple([i for i in range(1,15)])\n",
    "print(tuples)"
   ]
  },
  {
   "cell_type": "code",
   "execution_count": null,
   "id": "55a99b7b",
   "metadata": {},
   "outputs": [],
   "source": []
  },
  {
   "cell_type": "code",
   "execution_count": 14,
   "id": "3b3f4143",
   "metadata": {},
   "outputs": [
    {
     "name": "stdout",
     "output_type": "stream",
     "text": [
      "(1, 2, 3, 4, 5, 6, 7, 8, 9, 10, 11, 12, 13, 14)\n",
      "(1, 2, 3, 4, 5, 6, 7, 8, 9, 10, 11, 12, 13, 14)\n",
      "(1, 2, 3, 4, 5, 6, 7, 8, 9, 10, 11, 12, 13, 14)\n",
      "(1, 2, 3, 4, 5, 6, 7, 8, 9, 10, 11, 12, 13, 14)\n",
      "(1, 2, 3, 4, 5, 6, 7, 8, 9, 10, 11, 12, 13, 14)\n",
      "(1, 2, 3, 4, 5, 6, 7, 8, 9, 10, 11, 12, 13, 14)\n",
      "(1, 2, 3, 4, 5, 6, 7, 8, 9, 10, 11, 12, 13, 14)\n",
      "(1, 2, 3, 4, 5, 6, 7, 8, 9, 10, 11, 12, 13, 14)\n",
      "(1, 2, 3, 4, 5, 6, 7, 8, 9, 10, 11, 12, 13, 14)\n",
      "The slowest run took 18.05 times longer than the fastest. This could mean that an intermediate result is being cached.\n",
      "21.9 µs ± 26.2 µs per loop (mean ± std. dev. of 3 runs, 3 loops each)\n",
      "21.9 µs ± 26.2 µs per loop (mean ± std. dev. of 3 runs, 3 loops each)\n"
     ]
    }
   ],
   "source": [
    "SS = %timeit -r3 -n3 -o tuples = tuple([i for i in range(1,15)]); print(tuples)\n",
    "#tuples = tuple([i for i in range(1,15)])\n",
    "print(SS)"
   ]
  },
  {
   "cell_type": "code",
   "execution_count": 16,
   "id": "1648221c",
   "metadata": {},
   "outputs": [
    {
     "data": {
      "text/plain": [
       "IPython.core.magics.execution.TimeitResult"
      ]
     },
     "execution_count": 16,
     "metadata": {},
     "output_type": "execute_result"
    }
   ],
   "source": [
    "type(SS)"
   ]
  },
  {
   "cell_type": "code",
   "execution_count": 29,
   "id": "05076dc1",
   "metadata": {},
   "outputs": [
    {
     "name": "stdout",
     "output_type": "stream",
     "text": [
      "(1, 2, 3, 4, 5, 6, 7, 8, 9, 10, 11, 12, 13, 14)\n"
     ]
    }
   ],
   "source": [
    "def tuples():\n",
    "    tupt = ()\n",
    "    for i in range(1,15):\n",
    "        tupt = tupt + (i,)\n",
    "    return tupt\n",
    "tup = tuples()\n",
    "print(tup)"
   ]
  },
  {
   "cell_type": "code",
   "execution_count": 74,
   "id": "d11cf25d",
   "metadata": {},
   "outputs": [
    {
     "name": "stdout",
     "output_type": "stream",
     "text": [
      "800 ns ± 260 ns per loop (mean ± std. dev. of 3 runs, 3 loops each)\n",
      "1.68 µs ± 418 ns per loop (mean ± std. dev. of 3 runs, 3 loops each)\n",
      "778 ns ± 253 ns per loop (mean ± std. dev. of 3 runs, 3 loops each)\n",
      "667 ns ± 213 ns per loop (mean ± std. dev. of 3 runs, 3 loops each)\n",
      "1.14 µs ± 253 ns per loop (mean ± std. dev. of 3 runs, 3 loops each)\n"
     ]
    }
   ],
   "source": [
    "###---Список---###\n",
    "vLtime = %timeit -r3 -n3 -o vList = list([i for i in range(1,15)])\n",
    "vDtime = %timeit -r3 -n3 -o vDiction = dict([(i,i) for i in range(1,15)])\n",
    "vTtime = %timeit -r3 -n3 -o vTuple = tuple([i for i in range(1,15)])\n",
    "lLtime = %timeit -r3 -n3 -o lList = [i for i in range(1,15)]\n",
    "lDtime = %timeit -r3 -n3 -o lDiction = {i: i for i in range(1,15)}\n",
    "#lTtime = %timeit -r3 -n3 -o lTuple = ()"
   ]
  },
  {
   "cell_type": "code",
   "execution_count": null,
   "id": "986ca487",
   "metadata": {},
   "outputs": [],
   "source": []
  },
  {
   "cell_type": "code",
   "execution_count": 89,
   "id": "7a12962d",
   "metadata": {},
   "outputs": [
    {
     "name": "stdout",
     "output_type": "stream",
     "text": [
      "<class 'list'>\n",
      "[(1,), (2,), (3,), (4,), (5,), (6,), (7,), (8,), (9,), (10,), (11,), (12,), (13,), (14,)]\n"
     ]
    }
   ],
   "source": [
    "tt = [(i,) for i in range(1,15)]\n",
    "print(type(tt))\n",
    "print(tt)"
   ]
  },
  {
   "cell_type": "code",
   "execution_count": null,
   "id": "0f67f025",
   "metadata": {},
   "outputs": [],
   "source": [
    "yy = {}; yy =  "
   ]
  },
  {
   "cell_type": "code",
   "execution_count": 4,
   "id": "33d59b67",
   "metadata": {},
   "outputs": [
    {
     "name": "stdout",
     "output_type": "stream",
     "text": [
      "178 ns ± 134 ns per loop (mean ± std. dev. of 3 runs, 3 loops each)\n",
      "156 ns ± 78.6 ns per loop (mean ± std. dev. of 3 runs, 3 loops each)\n",
      "111 ns ± 68.5 ns per loop (mean ± std. dev. of 3 runs, 3 loops each)\n",
      "66.7 ns ± 47.1 ns per loop (mean ± std. dev. of 3 runs, 3 loops each)\n",
      "66.7 ns ± 27.2 ns per loop (mean ± std. dev. of 3 runs, 3 loops each)\n",
      "55.6 ns ± 31.4 ns per loop (mean ± std. dev. of 3 runs, 3 loops each)\n",
      "vlDiff 2.666666603507315\n",
      "vdDiff 2.333334280723973\n",
      "vtDiff 2.0000002273737016\n"
     ]
    }
   ],
   "source": [
    "vLtime = %timeit -r3 -n3 -o vList = list()\n",
    "vDtime = %timeit -r3 -n3 -o vDiction = dict()\n",
    "vTtime = %timeit -r3 -n3 -o vTuple = tuple()\n",
    "lLtime = %timeit -r3 -n3 -o lList = []\n",
    "lDtime = %timeit -r3 -n3 -o lDiction = {}\n",
    "lTtime = %timeit -r3 -n3 -o lTuple = ()\n",
    "vlDiff = vLtime.average/lLtime.average\n",
    "vdDiff = vDtime.average/lDtime.average\n",
    "vtDiff = vTtime.average/lTtime.average\n",
    "print(\"vlDiff\", vlDiff)\n",
    "print(\"vdDiff\", vdDiff)\n",
    "print(\"vtDiff\", vtDiff)"
   ]
  },
  {
   "cell_type": "code",
   "execution_count": null,
   "id": "c4b175fa",
   "metadata": {},
   "outputs": [],
   "source": []
  },
  {
   "cell_type": "code",
   "execution_count": null,
   "id": "0f734ca3",
   "metadata": {},
   "outputs": [],
   "source": []
  }
 ],
 "metadata": {
  "kernelspec": {
   "display_name": "Python 3 (ipykernel)",
   "language": "python",
   "name": "python3"
  },
  "language_info": {
   "codemirror_mode": {
    "name": "ipython",
    "version": 3
   },
   "file_extension": ".py",
   "mimetype": "text/x-python",
   "name": "python",
   "nbconvert_exporter": "python",
   "pygments_lexer": "ipython3",
   "version": "3.9.4"
  }
 },
 "nbformat": 4,
 "nbformat_minor": 5
}
